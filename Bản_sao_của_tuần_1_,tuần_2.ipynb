{
  "cells": [
    {
      "cell_type": "markdown",
      "metadata": {
        "id": "view-in-github",
        "colab_type": "text"
      },
      "source": [
        "<a href=\"https://colab.research.google.com/github/trieu123-start/trieu123-start/blob/main/B%E1%BA%A3n_sao_c%E1%BB%A7a_tu%E1%BA%A7n_1_%2Ctu%E1%BA%A7n_2.ipynb\" target=\"_parent\"><img src=\"https://colab.research.google.com/assets/colab-badge.svg\" alt=\"Open In Colab\"/></a>"
      ]
    },
    {
      "cell_type": "code",
      "execution_count": null,
      "metadata": {
        "id": "oaOBpUApkldq"
      },
      "outputs": [],
      "source": [
        "with open ('text.txt', mode ='w') as accounts:\n",
        "      accounts.write('1 Le Quang Trieu  8.0 \\ n')\n",
        "      accounts.write('2 Nguyen Vuong Kim Hoang  7.0 \\ n')"
      ]
    },
    {
      "cell_type": "code",
      "execution_count": null,
      "metadata": {
        "id": "efI6TPAilrow"
      },
      "outputs": [],
      "source": [
        "with open ('text1.txt', mode ='w') as accounts:\n",
        "     print('7:00  Nguyen Van A',file = accounts)\n",
        "     print('7:01  Le Thi B',file = accounts)"
      ]
    },
    {
      "cell_type": "code",
      "execution_count": null,
      "metadata": {
        "id": "89DE3wGznNRf",
        "colab": {
          "base_uri": "https://localhost:8080/",
          "height": 134
        },
        "outputId": "8512575b-11f3-46d1-d963-281c9003999d"
      },
      "outputs": [
        {
          "output_type": "error",
          "ename": "SyntaxError",
          "evalue": "ignored",
          "traceback": [
            "\u001b[0;36m  File \u001b[0;32m\"<ipython-input-1-e89b44664633>\"\u001b[0;36m, line \u001b[0;32m2\u001b[0m\n\u001b[0;31m    print(f'{'name':,<20}{'scove':>20}')\u001b[0m\n\u001b[0m                 ^\u001b[0m\n\u001b[0;31mSyntaxError\u001b[0m\u001b[0;31m:\u001b[0m invalid syntax\n"
          ]
        }
      ],
      "source": [
        "with open ('text1.txt', mode ='v') as accounts:\n",
        "     print(f'{'name':,<20}{'scove':>20}')\n",
        "     for record in accounts:\n",
        "        name,score = record.split()\n",
        "        print(f'{name:,<20}{scove:>20}')\n"
      ]
    },
    {
      "cell_type": "markdown",
      "source": [],
      "metadata": {
        "id": "uKWddugXlKh7"
      }
    },
    {
      "cell_type": "code",
      "source": [],
      "metadata": {
        "id": "cNlsNQk6lK30"
      },
      "execution_count": null,
      "outputs": []
    },
    {
      "cell_type": "markdown",
      "source": [
        "# Mục mới"
      ],
      "metadata": {
        "id": "oyLMBHAzlLqk"
      }
    },
    {
      "cell_type": "code",
      "source": [
        "import pandas as pd\n",
        "url='/content/TEXT.csv'\n",
        "dataframe = pd.read_csv(url)\n",
        "dataframe.head(4)\n",
        "dataframe.shape\n",
        "dataframe.describe()\n",
        "dataframe.iloc[:4]\n",
        "dataframe=dataframe.set_index(dataframe['HO VA TEN'])\n",
        "dataframe.loc['NGUYEN VAN A']\n"
      ],
      "metadata": {
        "colab": {
          "base_uri": "https://localhost:8080/"
        },
        "id": "cIsWT6401RJs",
        "outputId": "f0f66289-feab-49c1-d58c-12de6e52c494"
      },
      "execution_count": null,
      "outputs": [
        {
          "output_type": "execute_result",
          "data": {
            "text/plain": [
              "NO                       1\n",
              "STUDENT ID        20104064\n",
              "HO VA TEN     NGUYEN VAN A\n",
              "SCORE                    8\n",
              "KHOA                   CKM\n",
              "YEAR                  2022\n",
              "Name: NGUYEN VAN A, dtype: object"
            ]
          },
          "metadata": {},
          "execution_count": 32
        }
      ]
    },
    {
      "cell_type": "code",
      "source": [
        "import pandas as pd\n",
        "url='/content/TEXT.csv'\n",
        "dataframe = pd.read_csv(url)\n",
        "dataframe.head(4)\n",
        "dataframe.shape\n",
        "dataframe.describe()\n",
        "dataframe.iloc[:4]\n",
        "dataframe=dataframe.set_index(dataframe['HO VA TEN'])\n",
        "dataframe.loc['NGUYEN VAN A']\n",
        "dataframe[dataframe['KHOA']=='CKM'].head(5)"
      ],
      "metadata": {
        "colab": {
          "base_uri": "https://localhost:8080/",
          "height": 237
        },
        "id": "6nmhrYjb2vu0",
        "outputId": "e006e561-4d3d-4781-85ec-daa693898141"
      },
      "execution_count": null,
      "outputs": [
        {
          "output_type": "execute_result",
          "data": {
            "text/plain": [
              "              NO  STUDENT ID     HO VA TEN  SCORE KHOA  YEAR\n",
              "HO VA TEN                                                   \n",
              "NGUYEN VAN A   1    20104064  NGUYEN VAN A      8  CKM  2022\n",
              "NGUYEN VAN B   2    20104063  NGUYEN VAN B      9  CKM  2022\n",
              "NGUYEN VAN C   3    20104065  NGUYEN VAN C      7  CKM  2022\n",
              "NGUYEN VAN D   4    20104066  NGUYEN VAN D      5  CKM  2022\n",
              "NGUYEN VAN E   5    20104067  NGUYEN VAN E      6  CKM  2022"
            ],
            "text/html": [
              "\n",
              "  <div id=\"df-9abceed9-9689-416d-8d3e-eac52a991811\">\n",
              "    <div class=\"colab-df-container\">\n",
              "      <div>\n",
              "<style scoped>\n",
              "    .dataframe tbody tr th:only-of-type {\n",
              "        vertical-align: middle;\n",
              "    }\n",
              "\n",
              "    .dataframe tbody tr th {\n",
              "        vertical-align: top;\n",
              "    }\n",
              "\n",
              "    .dataframe thead th {\n",
              "        text-align: right;\n",
              "    }\n",
              "</style>\n",
              "<table border=\"1\" class=\"dataframe\">\n",
              "  <thead>\n",
              "    <tr style=\"text-align: right;\">\n",
              "      <th></th>\n",
              "      <th>NO</th>\n",
              "      <th>STUDENT ID</th>\n",
              "      <th>HO VA TEN</th>\n",
              "      <th>SCORE</th>\n",
              "      <th>KHOA</th>\n",
              "      <th>YEAR</th>\n",
              "    </tr>\n",
              "    <tr>\n",
              "      <th>HO VA TEN</th>\n",
              "      <th></th>\n",
              "      <th></th>\n",
              "      <th></th>\n",
              "      <th></th>\n",
              "      <th></th>\n",
              "      <th></th>\n",
              "    </tr>\n",
              "  </thead>\n",
              "  <tbody>\n",
              "    <tr>\n",
              "      <th>NGUYEN VAN A</th>\n",
              "      <td>1</td>\n",
              "      <td>20104064</td>\n",
              "      <td>NGUYEN VAN A</td>\n",
              "      <td>8</td>\n",
              "      <td>CKM</td>\n",
              "      <td>2022</td>\n",
              "    </tr>\n",
              "    <tr>\n",
              "      <th>NGUYEN VAN B</th>\n",
              "      <td>2</td>\n",
              "      <td>20104063</td>\n",
              "      <td>NGUYEN VAN B</td>\n",
              "      <td>9</td>\n",
              "      <td>CKM</td>\n",
              "      <td>2022</td>\n",
              "    </tr>\n",
              "    <tr>\n",
              "      <th>NGUYEN VAN C</th>\n",
              "      <td>3</td>\n",
              "      <td>20104065</td>\n",
              "      <td>NGUYEN VAN C</td>\n",
              "      <td>7</td>\n",
              "      <td>CKM</td>\n",
              "      <td>2022</td>\n",
              "    </tr>\n",
              "    <tr>\n",
              "      <th>NGUYEN VAN D</th>\n",
              "      <td>4</td>\n",
              "      <td>20104066</td>\n",
              "      <td>NGUYEN VAN D</td>\n",
              "      <td>5</td>\n",
              "      <td>CKM</td>\n",
              "      <td>2022</td>\n",
              "    </tr>\n",
              "    <tr>\n",
              "      <th>NGUYEN VAN E</th>\n",
              "      <td>5</td>\n",
              "      <td>20104067</td>\n",
              "      <td>NGUYEN VAN E</td>\n",
              "      <td>6</td>\n",
              "      <td>CKM</td>\n",
              "      <td>2022</td>\n",
              "    </tr>\n",
              "  </tbody>\n",
              "</table>\n",
              "</div>\n",
              "      <button class=\"colab-df-convert\" onclick=\"convertToInteractive('df-9abceed9-9689-416d-8d3e-eac52a991811')\"\n",
              "              title=\"Convert this dataframe to an interactive table.\"\n",
              "              style=\"display:none;\">\n",
              "        \n",
              "  <svg xmlns=\"http://www.w3.org/2000/svg\" height=\"24px\"viewBox=\"0 0 24 24\"\n",
              "       width=\"24px\">\n",
              "    <path d=\"M0 0h24v24H0V0z\" fill=\"none\"/>\n",
              "    <path d=\"M18.56 5.44l.94 2.06.94-2.06 2.06-.94-2.06-.94-.94-2.06-.94 2.06-2.06.94zm-11 1L8.5 8.5l.94-2.06 2.06-.94-2.06-.94L8.5 2.5l-.94 2.06-2.06.94zm10 10l.94 2.06.94-2.06 2.06-.94-2.06-.94-.94-2.06-.94 2.06-2.06.94z\"/><path d=\"M17.41 7.96l-1.37-1.37c-.4-.4-.92-.59-1.43-.59-.52 0-1.04.2-1.43.59L10.3 9.45l-7.72 7.72c-.78.78-.78 2.05 0 2.83L4 21.41c.39.39.9.59 1.41.59.51 0 1.02-.2 1.41-.59l7.78-7.78 2.81-2.81c.8-.78.8-2.07 0-2.86zM5.41 20L4 18.59l7.72-7.72 1.47 1.35L5.41 20z\"/>\n",
              "  </svg>\n",
              "      </button>\n",
              "      \n",
              "  <style>\n",
              "    .colab-df-container {\n",
              "      display:flex;\n",
              "      flex-wrap:wrap;\n",
              "      gap: 12px;\n",
              "    }\n",
              "\n",
              "    .colab-df-convert {\n",
              "      background-color: #E8F0FE;\n",
              "      border: none;\n",
              "      border-radius: 50%;\n",
              "      cursor: pointer;\n",
              "      display: none;\n",
              "      fill: #1967D2;\n",
              "      height: 32px;\n",
              "      padding: 0 0 0 0;\n",
              "      width: 32px;\n",
              "    }\n",
              "\n",
              "    .colab-df-convert:hover {\n",
              "      background-color: #E2EBFA;\n",
              "      box-shadow: 0px 1px 2px rgba(60, 64, 67, 0.3), 0px 1px 3px 1px rgba(60, 64, 67, 0.15);\n",
              "      fill: #174EA6;\n",
              "    }\n",
              "\n",
              "    [theme=dark] .colab-df-convert {\n",
              "      background-color: #3B4455;\n",
              "      fill: #D2E3FC;\n",
              "    }\n",
              "\n",
              "    [theme=dark] .colab-df-convert:hover {\n",
              "      background-color: #434B5C;\n",
              "      box-shadow: 0px 1px 3px 1px rgba(0, 0, 0, 0.15);\n",
              "      filter: drop-shadow(0px 1px 2px rgba(0, 0, 0, 0.3));\n",
              "      fill: #FFFFFF;\n",
              "    }\n",
              "  </style>\n",
              "\n",
              "      <script>\n",
              "        const buttonEl =\n",
              "          document.querySelector('#df-9abceed9-9689-416d-8d3e-eac52a991811 button.colab-df-convert');\n",
              "        buttonEl.style.display =\n",
              "          google.colab.kernel.accessAllowed ? 'block' : 'none';\n",
              "\n",
              "        async function convertToInteractive(key) {\n",
              "          const element = document.querySelector('#df-9abceed9-9689-416d-8d3e-eac52a991811');\n",
              "          const dataTable =\n",
              "            await google.colab.kernel.invokeFunction('convertToInteractive',\n",
              "                                                     [key], {});\n",
              "          if (!dataTable) return;\n",
              "\n",
              "          const docLinkHtml = 'Like what you see? Visit the ' +\n",
              "            '<a target=\"_blank\" href=https://colab.research.google.com/notebooks/data_table.ipynb>data table notebook</a>'\n",
              "            + ' to learn more about interactive tables.';\n",
              "          element.innerHTML = '';\n",
              "          dataTable['output_type'] = 'display_data';\n",
              "          await google.colab.output.renderOutput(dataTable, element);\n",
              "          const docLink = document.createElement('div');\n",
              "          docLink.innerHTML = docLinkHtml;\n",
              "          element.appendChild(docLink);\n",
              "        }\n",
              "      </script>\n",
              "    </div>\n",
              "  </div>\n",
              "  "
            ]
          },
          "metadata": {},
          "execution_count": 35
        }
      ]
    },
    {
      "cell_type": "code",
      "source": [
        "import pandas as pd\n",
        "url='TEXT5.csv'\n",
        "dataframe = pd.read_csv(url)\n",
        "dataframe = pd.read_csv(url)\n",
        "dataframe.drop('KHOA',axis=1).head(8)\n",
        "\n",
        "\n"
      ],
      "metadata": {
        "colab": {
          "base_uri": "https://localhost:8080/",
          "height": 300
        },
        "id": "Q4X7ssbT3-OY",
        "outputId": "29c60f5a-daae-4fa2-9e71-e3d9253056fc"
      },
      "execution_count": null,
      "outputs": [
        {
          "output_type": "execute_result",
          "data": {
            "text/plain": [
              "   NO  STUDENT ID     HO VA TEN  SCORE  YEAR\n",
              "0   1    20104064  NGUYEN VAN A      8  2022\n",
              "1   2    20104063  NGUYEN VAN B      9  2022\n",
              "2   3    20104065  NGUYEN VAN C      7  2022\n",
              "3   4    20104066  NGUYEN VAN D      5  2022\n",
              "4   5    20104067  NGUYEN VAN E      6  2022\n",
              "5   6    20104068  NGUYEN VAN F      4  2022\n",
              "6   7    20104069  NGUYEN VAN G      3  2022\n",
              "7   8    20104062  NGUYEN VAN H     10  2022"
            ],
            "text/html": [
              "\n",
              "  <div id=\"df-8d477be5-7e6c-465a-a6c7-977088ec0d8a\">\n",
              "    <div class=\"colab-df-container\">\n",
              "      <div>\n",
              "<style scoped>\n",
              "    .dataframe tbody tr th:only-of-type {\n",
              "        vertical-align: middle;\n",
              "    }\n",
              "\n",
              "    .dataframe tbody tr th {\n",
              "        vertical-align: top;\n",
              "    }\n",
              "\n",
              "    .dataframe thead th {\n",
              "        text-align: right;\n",
              "    }\n",
              "</style>\n",
              "<table border=\"1\" class=\"dataframe\">\n",
              "  <thead>\n",
              "    <tr style=\"text-align: right;\">\n",
              "      <th></th>\n",
              "      <th>NO</th>\n",
              "      <th>STUDENT ID</th>\n",
              "      <th>HO VA TEN</th>\n",
              "      <th>SCORE</th>\n",
              "      <th>YEAR</th>\n",
              "    </tr>\n",
              "  </thead>\n",
              "  <tbody>\n",
              "    <tr>\n",
              "      <th>0</th>\n",
              "      <td>1</td>\n",
              "      <td>20104064</td>\n",
              "      <td>NGUYEN VAN A</td>\n",
              "      <td>8</td>\n",
              "      <td>2022</td>\n",
              "    </tr>\n",
              "    <tr>\n",
              "      <th>1</th>\n",
              "      <td>2</td>\n",
              "      <td>20104063</td>\n",
              "      <td>NGUYEN VAN B</td>\n",
              "      <td>9</td>\n",
              "      <td>2022</td>\n",
              "    </tr>\n",
              "    <tr>\n",
              "      <th>2</th>\n",
              "      <td>3</td>\n",
              "      <td>20104065</td>\n",
              "      <td>NGUYEN VAN C</td>\n",
              "      <td>7</td>\n",
              "      <td>2022</td>\n",
              "    </tr>\n",
              "    <tr>\n",
              "      <th>3</th>\n",
              "      <td>4</td>\n",
              "      <td>20104066</td>\n",
              "      <td>NGUYEN VAN D</td>\n",
              "      <td>5</td>\n",
              "      <td>2022</td>\n",
              "    </tr>\n",
              "    <tr>\n",
              "      <th>4</th>\n",
              "      <td>5</td>\n",
              "      <td>20104067</td>\n",
              "      <td>NGUYEN VAN E</td>\n",
              "      <td>6</td>\n",
              "      <td>2022</td>\n",
              "    </tr>\n",
              "    <tr>\n",
              "      <th>5</th>\n",
              "      <td>6</td>\n",
              "      <td>20104068</td>\n",
              "      <td>NGUYEN VAN F</td>\n",
              "      <td>4</td>\n",
              "      <td>2022</td>\n",
              "    </tr>\n",
              "    <tr>\n",
              "      <th>6</th>\n",
              "      <td>7</td>\n",
              "      <td>20104069</td>\n",
              "      <td>NGUYEN VAN G</td>\n",
              "      <td>3</td>\n",
              "      <td>2022</td>\n",
              "    </tr>\n",
              "    <tr>\n",
              "      <th>7</th>\n",
              "      <td>8</td>\n",
              "      <td>20104062</td>\n",
              "      <td>NGUYEN VAN H</td>\n",
              "      <td>10</td>\n",
              "      <td>2022</td>\n",
              "    </tr>\n",
              "  </tbody>\n",
              "</table>\n",
              "</div>\n",
              "      <button class=\"colab-df-convert\" onclick=\"convertToInteractive('df-8d477be5-7e6c-465a-a6c7-977088ec0d8a')\"\n",
              "              title=\"Convert this dataframe to an interactive table.\"\n",
              "              style=\"display:none;\">\n",
              "        \n",
              "  <svg xmlns=\"http://www.w3.org/2000/svg\" height=\"24px\"viewBox=\"0 0 24 24\"\n",
              "       width=\"24px\">\n",
              "    <path d=\"M0 0h24v24H0V0z\" fill=\"none\"/>\n",
              "    <path d=\"M18.56 5.44l.94 2.06.94-2.06 2.06-.94-2.06-.94-.94-2.06-.94 2.06-2.06.94zm-11 1L8.5 8.5l.94-2.06 2.06-.94-2.06-.94L8.5 2.5l-.94 2.06-2.06.94zm10 10l.94 2.06.94-2.06 2.06-.94-2.06-.94-.94-2.06-.94 2.06-2.06.94z\"/><path d=\"M17.41 7.96l-1.37-1.37c-.4-.4-.92-.59-1.43-.59-.52 0-1.04.2-1.43.59L10.3 9.45l-7.72 7.72c-.78.78-.78 2.05 0 2.83L4 21.41c.39.39.9.59 1.41.59.51 0 1.02-.2 1.41-.59l7.78-7.78 2.81-2.81c.8-.78.8-2.07 0-2.86zM5.41 20L4 18.59l7.72-7.72 1.47 1.35L5.41 20z\"/>\n",
              "  </svg>\n",
              "      </button>\n",
              "      \n",
              "  <style>\n",
              "    .colab-df-container {\n",
              "      display:flex;\n",
              "      flex-wrap:wrap;\n",
              "      gap: 12px;\n",
              "    }\n",
              "\n",
              "    .colab-df-convert {\n",
              "      background-color: #E8F0FE;\n",
              "      border: none;\n",
              "      border-radius: 50%;\n",
              "      cursor: pointer;\n",
              "      display: none;\n",
              "      fill: #1967D2;\n",
              "      height: 32px;\n",
              "      padding: 0 0 0 0;\n",
              "      width: 32px;\n",
              "    }\n",
              "\n",
              "    .colab-df-convert:hover {\n",
              "      background-color: #E2EBFA;\n",
              "      box-shadow: 0px 1px 2px rgba(60, 64, 67, 0.3), 0px 1px 3px 1px rgba(60, 64, 67, 0.15);\n",
              "      fill: #174EA6;\n",
              "    }\n",
              "\n",
              "    [theme=dark] .colab-df-convert {\n",
              "      background-color: #3B4455;\n",
              "      fill: #D2E3FC;\n",
              "    }\n",
              "\n",
              "    [theme=dark] .colab-df-convert:hover {\n",
              "      background-color: #434B5C;\n",
              "      box-shadow: 0px 1px 3px 1px rgba(0, 0, 0, 0.15);\n",
              "      filter: drop-shadow(0px 1px 2px rgba(0, 0, 0, 0.3));\n",
              "      fill: #FFFFFF;\n",
              "    }\n",
              "  </style>\n",
              "\n",
              "      <script>\n",
              "        const buttonEl =\n",
              "          document.querySelector('#df-8d477be5-7e6c-465a-a6c7-977088ec0d8a button.colab-df-convert');\n",
              "        buttonEl.style.display =\n",
              "          google.colab.kernel.accessAllowed ? 'block' : 'none';\n",
              "\n",
              "        async function convertToInteractive(key) {\n",
              "          const element = document.querySelector('#df-8d477be5-7e6c-465a-a6c7-977088ec0d8a');\n",
              "          const dataTable =\n",
              "            await google.colab.kernel.invokeFunction('convertToInteractive',\n",
              "                                                     [key], {});\n",
              "          if (!dataTable) return;\n",
              "\n",
              "          const docLinkHtml = 'Like what you see? Visit the ' +\n",
              "            '<a target=\"_blank\" href=https://colab.research.google.com/notebooks/data_table.ipynb>data table notebook</a>'\n",
              "            + ' to learn more about interactive tables.';\n",
              "          element.innerHTML = '';\n",
              "          dataTable['output_type'] = 'display_data';\n",
              "          await google.colab.output.renderOutput(dataTable, element);\n",
              "          const docLink = document.createElement('div');\n",
              "          docLink.innerHTML = docLinkHtml;\n",
              "          element.appendChild(docLink);\n",
              "        }\n",
              "      </script>\n",
              "    </div>\n",
              "  </div>\n",
              "  "
            ]
          },
          "metadata": {},
          "execution_count": 53
        }
      ]
    },
    {
      "cell_type": "code",
      "source": [
        "import pandas as pd\n",
        "url = 'http://winterolympicsmedals.com/medals.csv'\n",
        "data = pd.read_csv(url)\n",
        "data"
      ],
      "metadata": {
        "colab": {
          "base_uri": "https://localhost:8080/",
          "height": 424
        },
        "id": "U5rX8n0A-WPY",
        "outputId": "90775885-dc14-41a8-f564-01a23d1d2f2e"
      },
      "execution_count": null,
      "outputs": [
        {
          "output_type": "execute_result",
          "data": {
            "text/plain": [
              "      Year      City       Sport      Discipline  NOC            Event  \\\n",
              "0     1924  Chamonix     Skating  Figure skating  AUT       individual   \n",
              "1     1924  Chamonix     Skating  Figure skating  AUT       individual   \n",
              "2     1924  Chamonix     Skating  Figure skating  AUT            pairs   \n",
              "3     1924  Chamonix   Bobsleigh       Bobsleigh  BEL         four-man   \n",
              "4     1924  Chamonix  Ice Hockey      Ice Hockey  CAN       ice hockey   \n",
              "...    ...       ...         ...             ...  ...              ...   \n",
              "2306  2006     Turin      Skiing       Snowboard  USA        Half-pipe   \n",
              "2307  2006     Turin      Skiing       Snowboard  USA        Half-pipe   \n",
              "2308  2006     Turin      Skiing       Snowboard  USA        Half-pipe   \n",
              "2309  2006     Turin      Skiing       Snowboard  USA  Snowboard Cross   \n",
              "2310  2006     Turin      Skiing       Snowboard  USA  Snowboard Cross   \n",
              "\n",
              "     Event gender   Medal  \n",
              "0               M  Silver  \n",
              "1               W    Gold  \n",
              "2               X    Gold  \n",
              "3               M  Bronze  \n",
              "4               M    Gold  \n",
              "...           ...     ...  \n",
              "2306            M  Silver  \n",
              "2307            W    Gold  \n",
              "2308            W  Silver  \n",
              "2309            M    Gold  \n",
              "2310            W  Silver  \n",
              "\n",
              "[2311 rows x 8 columns]"
            ],
            "text/html": [
              "\n",
              "  <div id=\"df-8dd0b09a-88db-45bf-98a6-691b65f92cc9\">\n",
              "    <div class=\"colab-df-container\">\n",
              "      <div>\n",
              "<style scoped>\n",
              "    .dataframe tbody tr th:only-of-type {\n",
              "        vertical-align: middle;\n",
              "    }\n",
              "\n",
              "    .dataframe tbody tr th {\n",
              "        vertical-align: top;\n",
              "    }\n",
              "\n",
              "    .dataframe thead th {\n",
              "        text-align: right;\n",
              "    }\n",
              "</style>\n",
              "<table border=\"1\" class=\"dataframe\">\n",
              "  <thead>\n",
              "    <tr style=\"text-align: right;\">\n",
              "      <th></th>\n",
              "      <th>Year</th>\n",
              "      <th>City</th>\n",
              "      <th>Sport</th>\n",
              "      <th>Discipline</th>\n",
              "      <th>NOC</th>\n",
              "      <th>Event</th>\n",
              "      <th>Event gender</th>\n",
              "      <th>Medal</th>\n",
              "    </tr>\n",
              "  </thead>\n",
              "  <tbody>\n",
              "    <tr>\n",
              "      <th>0</th>\n",
              "      <td>1924</td>\n",
              "      <td>Chamonix</td>\n",
              "      <td>Skating</td>\n",
              "      <td>Figure skating</td>\n",
              "      <td>AUT</td>\n",
              "      <td>individual</td>\n",
              "      <td>M</td>\n",
              "      <td>Silver</td>\n",
              "    </tr>\n",
              "    <tr>\n",
              "      <th>1</th>\n",
              "      <td>1924</td>\n",
              "      <td>Chamonix</td>\n",
              "      <td>Skating</td>\n",
              "      <td>Figure skating</td>\n",
              "      <td>AUT</td>\n",
              "      <td>individual</td>\n",
              "      <td>W</td>\n",
              "      <td>Gold</td>\n",
              "    </tr>\n",
              "    <tr>\n",
              "      <th>2</th>\n",
              "      <td>1924</td>\n",
              "      <td>Chamonix</td>\n",
              "      <td>Skating</td>\n",
              "      <td>Figure skating</td>\n",
              "      <td>AUT</td>\n",
              "      <td>pairs</td>\n",
              "      <td>X</td>\n",
              "      <td>Gold</td>\n",
              "    </tr>\n",
              "    <tr>\n",
              "      <th>3</th>\n",
              "      <td>1924</td>\n",
              "      <td>Chamonix</td>\n",
              "      <td>Bobsleigh</td>\n",
              "      <td>Bobsleigh</td>\n",
              "      <td>BEL</td>\n",
              "      <td>four-man</td>\n",
              "      <td>M</td>\n",
              "      <td>Bronze</td>\n",
              "    </tr>\n",
              "    <tr>\n",
              "      <th>4</th>\n",
              "      <td>1924</td>\n",
              "      <td>Chamonix</td>\n",
              "      <td>Ice Hockey</td>\n",
              "      <td>Ice Hockey</td>\n",
              "      <td>CAN</td>\n",
              "      <td>ice hockey</td>\n",
              "      <td>M</td>\n",
              "      <td>Gold</td>\n",
              "    </tr>\n",
              "    <tr>\n",
              "      <th>...</th>\n",
              "      <td>...</td>\n",
              "      <td>...</td>\n",
              "      <td>...</td>\n",
              "      <td>...</td>\n",
              "      <td>...</td>\n",
              "      <td>...</td>\n",
              "      <td>...</td>\n",
              "      <td>...</td>\n",
              "    </tr>\n",
              "    <tr>\n",
              "      <th>2306</th>\n",
              "      <td>2006</td>\n",
              "      <td>Turin</td>\n",
              "      <td>Skiing</td>\n",
              "      <td>Snowboard</td>\n",
              "      <td>USA</td>\n",
              "      <td>Half-pipe</td>\n",
              "      <td>M</td>\n",
              "      <td>Silver</td>\n",
              "    </tr>\n",
              "    <tr>\n",
              "      <th>2307</th>\n",
              "      <td>2006</td>\n",
              "      <td>Turin</td>\n",
              "      <td>Skiing</td>\n",
              "      <td>Snowboard</td>\n",
              "      <td>USA</td>\n",
              "      <td>Half-pipe</td>\n",
              "      <td>W</td>\n",
              "      <td>Gold</td>\n",
              "    </tr>\n",
              "    <tr>\n",
              "      <th>2308</th>\n",
              "      <td>2006</td>\n",
              "      <td>Turin</td>\n",
              "      <td>Skiing</td>\n",
              "      <td>Snowboard</td>\n",
              "      <td>USA</td>\n",
              "      <td>Half-pipe</td>\n",
              "      <td>W</td>\n",
              "      <td>Silver</td>\n",
              "    </tr>\n",
              "    <tr>\n",
              "      <th>2309</th>\n",
              "      <td>2006</td>\n",
              "      <td>Turin</td>\n",
              "      <td>Skiing</td>\n",
              "      <td>Snowboard</td>\n",
              "      <td>USA</td>\n",
              "      <td>Snowboard Cross</td>\n",
              "      <td>M</td>\n",
              "      <td>Gold</td>\n",
              "    </tr>\n",
              "    <tr>\n",
              "      <th>2310</th>\n",
              "      <td>2006</td>\n",
              "      <td>Turin</td>\n",
              "      <td>Skiing</td>\n",
              "      <td>Snowboard</td>\n",
              "      <td>USA</td>\n",
              "      <td>Snowboard Cross</td>\n",
              "      <td>W</td>\n",
              "      <td>Silver</td>\n",
              "    </tr>\n",
              "  </tbody>\n",
              "</table>\n",
              "<p>2311 rows × 8 columns</p>\n",
              "</div>\n",
              "      <button class=\"colab-df-convert\" onclick=\"convertToInteractive('df-8dd0b09a-88db-45bf-98a6-691b65f92cc9')\"\n",
              "              title=\"Convert this dataframe to an interactive table.\"\n",
              "              style=\"display:none;\">\n",
              "        \n",
              "  <svg xmlns=\"http://www.w3.org/2000/svg\" height=\"24px\"viewBox=\"0 0 24 24\"\n",
              "       width=\"24px\">\n",
              "    <path d=\"M0 0h24v24H0V0z\" fill=\"none\"/>\n",
              "    <path d=\"M18.56 5.44l.94 2.06.94-2.06 2.06-.94-2.06-.94-.94-2.06-.94 2.06-2.06.94zm-11 1L8.5 8.5l.94-2.06 2.06-.94-2.06-.94L8.5 2.5l-.94 2.06-2.06.94zm10 10l.94 2.06.94-2.06 2.06-.94-2.06-.94-.94-2.06-.94 2.06-2.06.94z\"/><path d=\"M17.41 7.96l-1.37-1.37c-.4-.4-.92-.59-1.43-.59-.52 0-1.04.2-1.43.59L10.3 9.45l-7.72 7.72c-.78.78-.78 2.05 0 2.83L4 21.41c.39.39.9.59 1.41.59.51 0 1.02-.2 1.41-.59l7.78-7.78 2.81-2.81c.8-.78.8-2.07 0-2.86zM5.41 20L4 18.59l7.72-7.72 1.47 1.35L5.41 20z\"/>\n",
              "  </svg>\n",
              "      </button>\n",
              "      \n",
              "  <style>\n",
              "    .colab-df-container {\n",
              "      display:flex;\n",
              "      flex-wrap:wrap;\n",
              "      gap: 12px;\n",
              "    }\n",
              "\n",
              "    .colab-df-convert {\n",
              "      background-color: #E8F0FE;\n",
              "      border: none;\n",
              "      border-radius: 50%;\n",
              "      cursor: pointer;\n",
              "      display: none;\n",
              "      fill: #1967D2;\n",
              "      height: 32px;\n",
              "      padding: 0 0 0 0;\n",
              "      width: 32px;\n",
              "    }\n",
              "\n",
              "    .colab-df-convert:hover {\n",
              "      background-color: #E2EBFA;\n",
              "      box-shadow: 0px 1px 2px rgba(60, 64, 67, 0.3), 0px 1px 3px 1px rgba(60, 64, 67, 0.15);\n",
              "      fill: #174EA6;\n",
              "    }\n",
              "\n",
              "    [theme=dark] .colab-df-convert {\n",
              "      background-color: #3B4455;\n",
              "      fill: #D2E3FC;\n",
              "    }\n",
              "\n",
              "    [theme=dark] .colab-df-convert:hover {\n",
              "      background-color: #434B5C;\n",
              "      box-shadow: 0px 1px 3px 1px rgba(0, 0, 0, 0.15);\n",
              "      filter: drop-shadow(0px 1px 2px rgba(0, 0, 0, 0.3));\n",
              "      fill: #FFFFFF;\n",
              "    }\n",
              "  </style>\n",
              "\n",
              "      <script>\n",
              "        const buttonEl =\n",
              "          document.querySelector('#df-8dd0b09a-88db-45bf-98a6-691b65f92cc9 button.colab-df-convert');\n",
              "        buttonEl.style.display =\n",
              "          google.colab.kernel.accessAllowed ? 'block' : 'none';\n",
              "\n",
              "        async function convertToInteractive(key) {\n",
              "          const element = document.querySelector('#df-8dd0b09a-88db-45bf-98a6-691b65f92cc9');\n",
              "          const dataTable =\n",
              "            await google.colab.kernel.invokeFunction('convertToInteractive',\n",
              "                                                     [key], {});\n",
              "          if (!dataTable) return;\n",
              "\n",
              "          const docLinkHtml = 'Like what you see? Visit the ' +\n",
              "            '<a target=\"_blank\" href=https://colab.research.google.com/notebooks/data_table.ipynb>data table notebook</a>'\n",
              "            + ' to learn more about interactive tables.';\n",
              "          element.innerHTML = '';\n",
              "          dataTable['output_type'] = 'display_data';\n",
              "          await google.colab.output.renderOutput(dataTable, element);\n",
              "          const docLink = document.createElement('div');\n",
              "          docLink.innerHTML = docLinkHtml;\n",
              "          element.appendChild(docLink);\n",
              "        }\n",
              "      </script>\n",
              "    </div>\n",
              "  </div>\n",
              "  "
            ]
          },
          "metadata": {},
          "execution_count": 68
        }
      ]
    },
    {
      "cell_type": "code",
      "source": [
        "import pandas as pd\n",
        "url = 'http://winterolympicsmedals.com/medals.csv'\n",
        "data = pd.read_csv(url)\n",
        "data['NOC'].unique()"
      ],
      "metadata": {
        "colab": {
          "base_uri": "https://localhost:8080/"
        },
        "id": "AgvdhKID_TDD",
        "outputId": "309ff0b0-c87e-4e3a-e5e9-43766d8da48b"
      },
      "execution_count": null,
      "outputs": [
        {
          "output_type": "execute_result",
          "data": {
            "text/plain": [
              "array(['AUT', 'BEL', 'CAN', 'FIN', 'FRA', 'GBR', 'NOR', 'SUI', 'SWE',\n",
              "       'USA', 'GER', 'TCH', 'HUN', 'ITA', 'FRG', 'NED', 'EUA', 'JPN',\n",
              "       'POL', 'URS', 'PRK', 'GDR', 'ROU', 'ESP', 'LIE', 'BUL', 'YUG',\n",
              "       'CHN', 'EUN', 'KOR', 'LUX', 'NZL', 'AUS', 'BLR', 'KAZ', 'RUS',\n",
              "       'SLO', 'UKR', 'UZB', 'CZE', 'DEN', 'CRO', 'EST', 'LAT', 'SVK'],\n",
              "      dtype=object)"
            ]
          },
          "metadata": {},
          "execution_count": 72
        }
      ]
    },
    {
      "cell_type": "code",
      "source": [
        "import pandas as pd\n",
        "url = 'http://winterolympicsmedals.com/medals.csv'\n",
        "data = pd.read_csv(url)\n",
        "data['Event'].unique()"
      ],
      "metadata": {
        "colab": {
          "base_uri": "https://localhost:8080/"
        },
        "id": "WUxBdw-NAhUU",
        "outputId": "fad505b4-932f-46a8-cddc-3d6469c1f215"
      },
      "execution_count": null,
      "outputs": [
        {
          "output_type": "execute_result",
          "data": {
            "text/plain": [
              "array(['individual', 'pairs', 'four-man', 'ice hockey', 'military patrol',\n",
              "       '10000m', '1500m', '5000m', '500m', 'combined (4 events)', '18km',\n",
              "       'curling', '50km', 'K90 individual (70m)', 'five-man', 'two-man',\n",
              "       '4x10km relay', 'alpine combined', 'downhill', 'slalom',\n",
              "       'giant slalom', '10km', '30km mass start', '3x5km relay', '15km',\n",
              "       '1000m', '20km', '3000m', 'doubles', 'singles', '5km',\n",
              "       'K120 individual (90m)', '4x7.5km relay', '4x5km relay',\n",
              "       'ice dancing', 'super-G', 'Team', 'K120 team (90m)', '3000m relay',\n",
              "       '5000m relay', '3x7.5km relay', '7.5km', '15km mass start', '30km',\n",
              "       'Combined 5km + 10km pursuit', 'moguls', '10km pursuit',\n",
              "       'Combined 10km + 15km pursuit', 'aerials', 'giant-slalom',\n",
              "       'Half-pipe', 'sprint', '5km pursuit', '12.5km pursuit',\n",
              "       'Giant parallel slalom', 'Sprint 1.5km', 'sprint 1.5km',\n",
              "       'Alpine combined', 'Individual', 'Individual sprint',\n",
              "       'Team pursuit', 'Team sprint', 'Snowboard Cross',\n",
              "       'Combined 7.5 + 7.5km mass start', '4x6km relay',\n",
              "       '12.5km mass start', 'Combined 15 + 15km mass start'], dtype=object)"
            ]
          },
          "metadata": {},
          "execution_count": 75
        }
      ]
    },
    {
      "cell_type": "code",
      "source": [
        "import pandas as pd\n",
        "url = 'http://winterolympicsmedals.com/medals.csv'\n",
        "data = pd.read_csv(url)\n",
        "data[data['NOC']=='GOLD'].head(100)\n",
        "                               \n",
        "              \n",
        "                              "
      ],
      "metadata": {
        "colab": {
          "base_uri": "https://localhost:8080/",
          "height": 49
        },
        "id": "RQF1txKGBDdM",
        "outputId": "6da66827-7974-40cc-9c03-3bc16a8bb78c"
      },
      "execution_count": null,
      "outputs": [
        {
          "output_type": "execute_result",
          "data": {
            "text/plain": [
              "Empty DataFrame\n",
              "Columns: [Year, City, Sport, Discipline, NOC, Event, Event gender, Medal]\n",
              "Index: []"
            ],
            "text/html": [
              "\n",
              "  <div id=\"df-d8b069db-c7e3-4aef-9b32-5762e387a477\">\n",
              "    <div class=\"colab-df-container\">\n",
              "      <div>\n",
              "<style scoped>\n",
              "    .dataframe tbody tr th:only-of-type {\n",
              "        vertical-align: middle;\n",
              "    }\n",
              "\n",
              "    .dataframe tbody tr th {\n",
              "        vertical-align: top;\n",
              "    }\n",
              "\n",
              "    .dataframe thead th {\n",
              "        text-align: right;\n",
              "    }\n",
              "</style>\n",
              "<table border=\"1\" class=\"dataframe\">\n",
              "  <thead>\n",
              "    <tr style=\"text-align: right;\">\n",
              "      <th></th>\n",
              "      <th>Year</th>\n",
              "      <th>City</th>\n",
              "      <th>Sport</th>\n",
              "      <th>Discipline</th>\n",
              "      <th>NOC</th>\n",
              "      <th>Event</th>\n",
              "      <th>Event gender</th>\n",
              "      <th>Medal</th>\n",
              "    </tr>\n",
              "  </thead>\n",
              "  <tbody>\n",
              "  </tbody>\n",
              "</table>\n",
              "</div>\n",
              "      <button class=\"colab-df-convert\" onclick=\"convertToInteractive('df-d8b069db-c7e3-4aef-9b32-5762e387a477')\"\n",
              "              title=\"Convert this dataframe to an interactive table.\"\n",
              "              style=\"display:none;\">\n",
              "        \n",
              "  <svg xmlns=\"http://www.w3.org/2000/svg\" height=\"24px\"viewBox=\"0 0 24 24\"\n",
              "       width=\"24px\">\n",
              "    <path d=\"M0 0h24v24H0V0z\" fill=\"none\"/>\n",
              "    <path d=\"M18.56 5.44l.94 2.06.94-2.06 2.06-.94-2.06-.94-.94-2.06-.94 2.06-2.06.94zm-11 1L8.5 8.5l.94-2.06 2.06-.94-2.06-.94L8.5 2.5l-.94 2.06-2.06.94zm10 10l.94 2.06.94-2.06 2.06-.94-2.06-.94-.94-2.06-.94 2.06-2.06.94z\"/><path d=\"M17.41 7.96l-1.37-1.37c-.4-.4-.92-.59-1.43-.59-.52 0-1.04.2-1.43.59L10.3 9.45l-7.72 7.72c-.78.78-.78 2.05 0 2.83L4 21.41c.39.39.9.59 1.41.59.51 0 1.02-.2 1.41-.59l7.78-7.78 2.81-2.81c.8-.78.8-2.07 0-2.86zM5.41 20L4 18.59l7.72-7.72 1.47 1.35L5.41 20z\"/>\n",
              "  </svg>\n",
              "      </button>\n",
              "      \n",
              "  <style>\n",
              "    .colab-df-container {\n",
              "      display:flex;\n",
              "      flex-wrap:wrap;\n",
              "      gap: 12px;\n",
              "    }\n",
              "\n",
              "    .colab-df-convert {\n",
              "      background-color: #E8F0FE;\n",
              "      border: none;\n",
              "      border-radius: 50%;\n",
              "      cursor: pointer;\n",
              "      display: none;\n",
              "      fill: #1967D2;\n",
              "      height: 32px;\n",
              "      padding: 0 0 0 0;\n",
              "      width: 32px;\n",
              "    }\n",
              "\n",
              "    .colab-df-convert:hover {\n",
              "      background-color: #E2EBFA;\n",
              "      box-shadow: 0px 1px 2px rgba(60, 64, 67, 0.3), 0px 1px 3px 1px rgba(60, 64, 67, 0.15);\n",
              "      fill: #174EA6;\n",
              "    }\n",
              "\n",
              "    [theme=dark] .colab-df-convert {\n",
              "      background-color: #3B4455;\n",
              "      fill: #D2E3FC;\n",
              "    }\n",
              "\n",
              "    [theme=dark] .colab-df-convert:hover {\n",
              "      background-color: #434B5C;\n",
              "      box-shadow: 0px 1px 3px 1px rgba(0, 0, 0, 0.15);\n",
              "      filter: drop-shadow(0px 1px 2px rgba(0, 0, 0, 0.3));\n",
              "      fill: #FFFFFF;\n",
              "    }\n",
              "  </style>\n",
              "\n",
              "      <script>\n",
              "        const buttonEl =\n",
              "          document.querySelector('#df-d8b069db-c7e3-4aef-9b32-5762e387a477 button.colab-df-convert');\n",
              "        buttonEl.style.display =\n",
              "          google.colab.kernel.accessAllowed ? 'block' : 'none';\n",
              "\n",
              "        async function convertToInteractive(key) {\n",
              "          const element = document.querySelector('#df-d8b069db-c7e3-4aef-9b32-5762e387a477');\n",
              "          const dataTable =\n",
              "            await google.colab.kernel.invokeFunction('convertToInteractive',\n",
              "                                                     [key], {});\n",
              "          if (!dataTable) return;\n",
              "\n",
              "          const docLinkHtml = 'Like what you see? Visit the ' +\n",
              "            '<a target=\"_blank\" href=https://colab.research.google.com/notebooks/data_table.ipynb>data table notebook</a>'\n",
              "            + ' to learn more about interactive tables.';\n",
              "          element.innerHTML = '';\n",
              "          dataTable['output_type'] = 'display_data';\n",
              "          await google.colab.output.renderOutput(dataTable, element);\n",
              "          const docLink = document.createElement('div');\n",
              "          docLink.innerHTML = docLinkHtml;\n",
              "          element.appendChild(docLink);\n",
              "        }\n",
              "      </script>\n",
              "    </div>\n",
              "  </div>\n",
              "  "
            ]
          },
          "metadata": {},
          "execution_count": 3
        }
      ]
    },
    {
      "cell_type": "code",
      "source": [
        "from openpyxl import Workbook\n",
        "wb = Workbook()\n",
        "sheet = wb.active\n",
        "sheet['A1'] = 'Le Quang Trieu'\n",
        "sheet['B1'] ='20104064'\n",
        "sheet['A2'] = 'Tran Van Hau'\n",
        "sheet['B2'] = '20104032'\n",
        "wb.save('byebye.xlsx')"
      ],
      "metadata": {
        "id": "j0ShG_qYOp5Z"
      },
      "execution_count": null,
      "outputs": []
    },
    {
      "cell_type": "code",
      "source": [
        "import openpyxl\n",
        "wb = openpyxl.load_workbook('byebye.xlsx')\n",
        "sheet = wb.active\n",
        "t1 = sheet['A1']\n",
        "t2 = sheet['B1']\n",
        "t3 = sheet.cell(row = 2 , column = 1)\n",
        "t4 = sheet.cell(row = 2 , column = 2)\n",
        "print(t1.value , t2.value)\n",
        "print(t3.value , t4.value)"
      ],
      "metadata": {
        "colab": {
          "base_uri": "https://localhost:8080/"
        },
        "id": "cJDRmNqlOsk7",
        "outputId": "9b79f97c-f00e-45f5-c9a7-a195d4d2f32c"
      },
      "execution_count": null,
      "outputs": [
        {
          "output_type": "stream",
          "name": "stdout",
          "text": [
            "Le Quang Trieu 20104064\n",
            "Tran Van Hau 20104032\n"
          ]
        }
      ]
    },
    {
      "cell_type": "code",
      "source": [
        " import matplotlib.pyplot as plt\n",
        " import numpy as np\n",
        " x=np.arange(6)\n",
        " y=x+1\n",
        " plt.plot(x,y,'o--')\n",
        " plt.show()"
      ],
      "metadata": {
        "colab": {
          "base_uri": "https://localhost:8080/",
          "height": 265
        },
        "id": "sZHTrTEgOwdh",
        "outputId": "a5775d0a-39b9-4ca3-b736-3e1bf8d4e25e"
      },
      "execution_count": null,
      "outputs": [
        {
          "output_type": "display_data",
          "data": {
            "text/plain": [
              "<Figure size 432x288 with 1 Axes>"
            ],
            "image/png": "[encoded data removed]"
          },
          "metadata": {
            "needs_background": "light"
          }
        }
      ]
    },
    {
      "cell_type": "code",
      "source": [
        "import matplotlib.pyplot as plt\n",
        "import numpy as np\n",
        "x=np.arange(6)\n",
        "y=x+1\n",
        "plt.plot(x,y,'o--')\n",
        "plt.plot(x,-y,'o-')\n",
        "plt.title('y=x va y=-x')\n",
        "plt.xlabel('x')\n",
        "plt.ylabel('y')\n",
        "plt.show()\n"
      ],
      "metadata": {
        "colab": {
          "base_uri": "https://localhost:8080/",
          "height": 295
        },
        "id": "OLk-VL8AO6zY",
        "outputId": "2f0f3fac-8e99-402c-91ee-dcafa585e406"
      },
      "execution_count": null,
      "outputs": [
        {
          "output_type": "display_data",
          "data": {
            "text/plain": [
              "<Figure size 432x288 with 1 Axes>"
            ],
            "image/png": "[encoded data removed]"
          },
          "metadata": {
            "needs_background": "light"
          }
        }
      ]
    },
    {
      "cell_type": "code",
      "source": [
        "x=[4,5,7,3,4,1]\n",
        "plt.plot(x)\n",
        "plt.show()\n"
      ],
      "metadata": {
        "colab": {
          "base_uri": "https://localhost:8080/",
          "height": 265
        },
        "id": "VvLyPPZZO-4O",
        "outputId": "6262865a-6fb6-40f1-cb1c-e802cf964856"
      },
      "execution_count": null,
      "outputs": [
        {
          "output_type": "display_data",
          "data": {
            "text/plain": [
              "<Figure size 432x288 with 1 Axes>"
            ],
            "image/png": "[encoded data removed]"
          },
          "metadata": {
            "needs_background": "light"
          }
        }
      ]
    },
    {
      "cell_type": "code",
      "source": [
        "x=np.arange(25)\n",
        "plt.plot(x)\n",
        "plt.show()"
      ],
      "metadata": {
        "colab": {
          "base_uri": "https://localhost:8080/",
          "height": 268
        },
        "id": "zCQ6PEPTPCz4",
        "outputId": "bf90766e-535a-4868-a84b-dd3f2b910311"
      },
      "execution_count": null,
      "outputs": [
        {
          "output_type": "display_data",
          "data": {
            "text/plain": [
              "<Figure size 432x288 with 1 Axes>"
            ],
            "image/png": "[encoded data removed]"
          },
          "metadata": {
            "needs_background": "light"
          }
        }
      ]
    },
    {
      "cell_type": "code",
      "source": [
        "x=np.arange(7)\n",
        "plt.plot(x,x**2)\n",
        "plt.plot(x,-x**3)\n",
        "plt.plot(x,-2*x)\n",
        "plt.plot(x,-2**x)\n",
        "plt.show()"
      ],
      "metadata": {
        "colab": {
          "base_uri": "https://localhost:8080/",
          "height": 265
        },
        "id": "NPo0Q1CfPFYB",
        "outputId": "84a29a91-0974-469e-89ae-fd200d023edb"
      },
      "execution_count": null,
      "outputs": [
        {
          "output_type": "display_data",
          "data": {
            "text/plain": [
              "<Figure size 432x288 with 1 Axes>"
            ],
            "image/png": "[encoded data removed]"
          },
          "metadata": {
            "needs_background": "light"
          }
        }
      ]
    },
    {
      "cell_type": "code",
      "source": [
        "x=np.arange(3)\n",
        "plt.subplots_adjust(wspace=0.3,hspace=0.3)\n",
        "plt.subplot(2,2,1)\n",
        "plt.plot(x,-x**2,color='g')\n",
        "plt.subplot(2,2,2)\n",
        "plt.plot(x,-x**3,color='r')\n",
        "plt.subplot(2,2,3)\n",
        "plt.plot(x,-2*x,color='b')\n",
        "plt.subplot(2,2,4)\n",
        "plt.plot(x,-2**x,'o')\n",
        "plt.show()"
      ],
      "metadata": {
        "colab": {
          "base_uri": "https://localhost:8080/",
          "height": 265
        },
        "id": "3IQdiYkrPIRc",
        "outputId": "17786582-f57a-4c24-d33e-d23b5f6f44c2"
      },
      "execution_count": null,
      "outputs": [
        {
          "output_type": "display_data",
          "data": {
            "text/plain": [
              "<Figure size 432x288 with 4 Axes>"
            ],
            "image/png": "[encoded data removed]"
          },
          "metadata": {
            "needs_background": "light"
          }
        }
      ]
    },
    {
      "cell_type": "code",
      "source": [
        "plt.axis([0,80,0,10])\n",
        "plt.scatter(20,5,s=10000,color='b',alpha=1)\n",
        "plt.scatter(40,5,s=500,color='g',alpha=.5)\n",
        "plt.scatter(60,5,s=10000,color='r',alpha=.1)\n",
        "plt.show()"
      ],
      "metadata": {
        "colab": {
          "base_uri": "https://localhost:8080/",
          "height": 269
        },
        "id": "zYajKPCwPLTj",
        "outputId": "8a63cb74-04b5-4cd1-e61b-5d9b9a6a7523"
      },
      "execution_count": null,
      "outputs": [
        {
          "output_type": "display_data",
          "data": {
            "text/plain": [
              "<Figure size 432x288 with 1 Axes>"
            ],
            "image/png": "[encoded data removed]"
          },
          "metadata": {
            "needs_background": "light"
          }
        }
      ]
    },
    {
      "cell_type": "code",
      "source": [
        "x=np.arange(4)\n",
        "y=np.random.rand(4)\n",
        "plt.bar(x,y)\n",
        "plt.show()"
      ],
      "metadata": {
        "colab": {
          "base_uri": "https://localhost:8080/",
          "height": 265
        },
        "id": "EaW9M_JzPNxu",
        "outputId": "f907dfbd-bdf8-42d8-c7a0-53c124a2cd45"
      },
      "execution_count": null,
      "outputs": [
        {
          "output_type": "display_data",
          "data": {
            "text/plain": [
              "<Figure size 432x288 with 1 Axes>"
            ],
            "image/png": "[encoded data removed]"
          },
          "metadata": {
            "needs_background": "light"
          }
        }
      ]
    },
    {
      "cell_type": "code",
      "source": [
        "y=np.random.rand(3,4)\n",
        "plt.bar(x+0,y[0],color='b',width=0.25)\n",
        "plt.bar(x+0.25,y[1],color='g',width=0.25)\n",
        "plt.bar(x+0.5,y[2],color='r',width=0.25)\n",
        "plt.show()"
      ],
      "metadata": {
        "colab": {
          "base_uri": "https://localhost:8080/",
          "height": 265
        },
        "id": "T5_gaX_fPSuT",
        "outputId": "84813e5f-0169-440d-d18a-d9d478a696f0"
      },
      "execution_count": null,
      "outputs": [
        {
          "output_type": "display_data",
          "data": {
            "text/plain": [
              "<Figure size 432x288 with 1 Axes>"
            ],
            "image/png": "[encoded data removed]"
          },
          "metadata": {
            "needs_background": "light"
          }
        }
      ]
    },
    {
      "cell_type": "code",
      "source": [
        "plt.axis([0,20, 0,20])\n",
        "plt.arrow(12,0,0,6, head_length=4, head_width=2, color='g')\n",
        "plt.show()"
      ],
      "metadata": {
        "colab": {
          "base_uri": "https://localhost:8080/",
          "height": 269
        },
        "id": "50e83v73PVUK",
        "outputId": "8daf5444-0995-4d9f-9127-f4074f4f1481"
      },
      "execution_count": null,
      "outputs": [
        {
          "output_type": "display_data",
          "data": {
            "text/plain": [
              "<Figure size 432x288 with 1 Axes>"
            ],
            "image/png": "[encoded data removed]"
          },
          "metadata": {
            "needs_background": "light"
          }
        }
      ]
    },
    {
      "cell_type": "code",
      "source": [
        "plt.plot([3,5],[7,15], linewidth=5, color='r')\n",
        "plt.text(4.25,12,'text')\n",
        "plt.show"
      ],
      "metadata": {
        "colab": {
          "base_uri": "https://localhost:8080/",
          "height": 283
        },
        "id": "LXJ5xFDhPX-6",
        "outputId": "6924d7d3-a579-42d6-c805-f4842b96195d"
      },
      "execution_count": null,
      "outputs": [
        {
          "output_type": "execute_result",
          "data": {
            "text/plain": [
              "<function matplotlib.pyplot.show(*args, **kw)>"
            ]
          },
          "metadata": {},
          "execution_count": 29
        },
        {
          "output_type": "display_data",
          "data": {
            "text/plain": [
              "<Figure size 432x288 with 1 Axes>"
            ],
            "image/png": "[encoded data removed]"
          },
          "metadata": {
            "needs_background": "light"
          }
        }
      ]
    },
    {
      "cell_type": "code",
      "source": [
        "pip install scikit-fuzzy"
      ],
      "metadata": {
        "colab": {
          "base_uri": "https://localhost:8080/"
        },
        "id": "EtbGh5yIPgXA",
        "outputId": "3cad8ce9-7fb8-4b8c-9b3b-0a12150fdd5f"
      },
      "execution_count": null,
      "outputs": [
        {
          "output_type": "stream",
          "name": "stdout",
          "text": [
            "Looking in indexes: https://pypi.org/simple, https://us-python.pkg.dev/colab-wheels/public/simple/\n",
            "Requirement already satisfied: scikit-fuzzy in /usr/local/lib/python3.7/dist-packages (0.4.2)\n",
            "Requirement already satisfied: networkx>=1.9.0 in /usr/local/lib/python3.7/dist-packages (from scikit-fuzzy) (2.6.3)\n",
            "Requirement already satisfied: scipy>=0.9.0 in /usr/local/lib/python3.7/dist-packages (from scikit-fuzzy) (1.7.3)\n",
            "Requirement already satisfied: numpy>=1.6.0 in /usr/local/lib/python3.7/dist-packages (from scikit-fuzzy) (1.21.6)\n"
          ]
        }
      ]
    },
    {
      "cell_type": "code",
      "source": [
        "import numpy as np\n",
        "import skfuzzy as fuzz\n",
        "x=np.arange(11)\n",
        "mfx=fuzz.trimf(x,[0,5,10])\n",
        "x\n",
        "mfx"
      ],
      "metadata": {
        "colab": {
          "base_uri": "https://localhost:8080/"
        },
        "id": "F3d2_4TbPjij",
        "outputId": "7cc92e8e-6669-47de-fb52-bce8e0a209cd"
      },
      "execution_count": null,
      "outputs": [
        {
          "output_type": "execute_result",
          "data": {
            "text/plain": [
              "array([0. , 0.2, 0.4, 0.6, 0.8, 1. , 0.8, 0.6, 0.4, 0.2, 0. ])"
            ]
          },
          "metadata": {},
          "execution_count": 33
        }
      ]
    },
    {
      "cell_type": "code",
      "source": [
        "import numpy as np\n",
        "import skfuzzy as fuzzy\n",
        "from skfuzzy import control as ctrl \n",
        "food = ctrl.Antecedent(np.arange(0,11,1),'food')\n",
        "service = ctrl.Antecedent(np.arange(0,11,1),'service')\n",
        "tip = ctrl.Consequent(np.arange(10,26,1),'tip')\n",
        "food['poor']=fuzz.trimf(food.universe,[0,0,5])\n",
        "food['average']=fuzz.trimf(food.universe,[0,5,10])\n",
        "food['good']=fuzz.trimf(food.universe,[5,10,15])\n",
        "service['poor']=fuzz.trimf(service.universe,[0,0,5])\n",
        "service['average']=fuzz.trimf(service.universe,[0,5,10])\n",
        "service['good']=fuzz.trimf(service.universe,[5,10,10])\n",
        "tip['less']=fuzz.trimf(tip.universe,[10,14,18])\n",
        "tip['normal']=fuzz.trimf(tip.universe,[14,18,22])\n",
        "tip['much']=fuzz.trimf(tip.universe,[18,22,25])\n",
        "service.view()\n",
        "food.view()\n",
        "tip.view()"
      ],
      "metadata": {
        "colab": {
          "base_uri": "https://localhost:8080/",
          "height": 809
        },
        "id": "0fxeD2o_Pn4U",
        "outputId": "f13593e2-21db-4698-dfdc-70d187779559"
      },
      "execution_count": null,
      "outputs": [
        {
          "output_type": "display_data",
          "data": {
            "text/plain": [
              "<Figure size 432x288 with 1 Axes>"
            ],
            "image/png": "[encoded data removed]"
          },
          "metadata": {
            "needs_background": "light"
          }
        },
        {
          "output_type": "display_data",
          "data": {
            "text/plain": [
              "<Figure size 432x288 with 1 Axes>"
            ],
            "image/png": "[encoded data removed]"
          },
          "metadata": {
            "needs_background": "light"
          }
        },
        {
          "output_type": "display_data",
          "data": {
            "text/plain": [
              "<Figure size 432x288 with 1 Axes>"
            ],
            "image/png": "[encoded data removed]"
          },
          "metadata": {
            "needs_background": "light"
          }
        }
      ]
    },
    {
      "cell_type": "code",
      "source": [
        "rule1 = ctrl.Rule(food['poor']&service['poor'],tip['less'])\n",
        "rule2 = ctrl.Rule(food['poor']&service['average'],tip['less'])\n",
        "rule3 = ctrl.Rule(food['poor']&service['good'],tip['normal'])\n",
        "rule4 = ctrl.Rule(food['average']&service['poor'],tip['less'])\n",
        "rule5 = ctrl.Rule(food['average']&service['average'],tip['normal'])\n",
        "rule6 = ctrl.Rule(food['average']&service['good'],tip['much'])\n",
        "rule7 = ctrl.Rule(food['good']&service['poor'],tip['normal'])\n",
        "rule8 = ctrl.Rule(food['good']&service['average'],tip['much'])\n",
        "rule9 = ctrl.Rule(food['good']&service['good'],tip['much'])\n",
        "tipping_ctrl = ctrl.ControlSystem([rule1,rule2,rule3,rule4,rule5,rule6, rule7,rule8,rule9])\n",
        "tipping = ctrl.ControlSystemSimulation(tipping_ctrl)\n",
        "tipping.input['food'] = 9.3\n",
        "tipping.input['service'] = 1\n",
        "tipping.compute()\n",
        "print(tipping.output['tip'])\n",
        "tip.view(sim=tipping)\n"
      ],
      "metadata": {
        "colab": {
          "base_uri": "https://localhost:8080/",
          "height": 299
        },
        "id": "W9zRvJOWPsTe",
        "outputId": "7eee0f20-a59a-43a0-e987-78612400fffa"
      },
      "execution_count": null,
      "outputs": [
        {
          "output_type": "stream",
          "name": "stdout",
          "text": [
            "17.989800951855063\n"
          ]
        },
        {
          "output_type": "display_data",
          "data": {
            "text/plain": [
              "<Figure size 432x288 with 1 Axes>"
            ],
            "image/png": "[encoded data removed]"
          },
          "metadata": {
            "needs_background": "light"
          }
        }
      ]
    },
    {
      "cell_type": "code",
      "source": [
        "\n",
        "import numpy as np\n",
        "import skfuzzy as fuzz\n",
        "from skfuzzy import control as ctrl\n",
        "time = ctrl.Antecedent(np.arange(10,121,5),'time')\n",
        "rice = ctrl.Antecedent(np.arange(100,1001,5),'rice')\n",
        "power = ctrl.Consequent(np.arange(0,101,5),'power')\n",
        "time['vfast']=fuzz.trimf(time.universe,[10,10,40])\n",
        "time['fast']=fuzz.trimf(time.universe,[10,40,70])\n",
        "time['normal']=fuzz.trimf(time.universe,[40,70,95])\n",
        "time['low']=fuzz.trimf(time.universe,[70,95,120])\n",
        "time['vlow']=fuzz.trimf(time.universe,[95,120,120])\n",
        "rice['vfew']=fuzz.trimf(rice.universe,[100,100,325])\n",
        "rice['few']=fuzz.trimf(rice.universe,[100,325,550])\n",
        "rice['normal']=fuzz.trimf(rice.universe,[325,550,775])\n",
        "rice['much']=fuzz.trimf(rice.universe,[550,775,1000])\n",
        "rice['vmuch']=fuzz.trimf(rice.universe,[775,1000,1000])\n",
        "power['vsmall']=fuzz.trimf(power.universe,[0,0,25])\n",
        "power['small']=fuzz.trimf(power.universe,[0,25,50])\n",
        "power['normal']=fuzz.trimf(power.universe,[25,50,75])\n",
        "power['big']=fuzz.trimf(power.universe,[50,75,100])\n",
        "power['vbig']=fuzz.trimf(power.universe,[75,100,100])\n",
        "rule1 = ctrl.Rule(time['vfast']&rice['vfew'],power['vsmall'])\n",
        "rule2 = ctrl.Rule(time['vfast']&rice['few'],power['vsmall'])\n",
        "rule3 = ctrl.Rule(time['vfast']&rice['normal'],power['vsmall'])\n",
        "rule4 = ctrl.Rule(time['vfast']&rice['much'],power['small'])\n",
        "rule5 = ctrl.Rule(time['vfast']&rice['vmuch'],power['normal'])\n",
        "rule6 = ctrl.Rule(time['fast']&rice['vfew'],power['vsmall'])\n",
        "rule7 = ctrl.Rule(time['fast']&rice['few'],power['small'])\n",
        "rule8 = ctrl.Rule(time['fast']&rice['normal'],power['small'])\n",
        "rule9 = ctrl.Rule(time['fast']&rice['much'],power['normal'])\n",
        "rule10 = ctrl.Rule(time['fast']&rice['vmuch'],power['big'])\n",
        "rule11 = ctrl.Rule(time['normal']&rice['vfew'],power['vsmall'])\n",
        "rule12 = ctrl.Rule(time['normal']&rice['few'],power['small'])\n",
        "rule13 = ctrl.Rule(time['normal']&rice['normal'],power['normal'])\n",
        "rule14 = ctrl.Rule(time['normal']&rice['much'],power['big'])\n",
        "rule15 = ctrl.Rule(time['normal']&rice['vmuch'],power['vbig'])\n",
        "rule16 = ctrl.Rule(time['low']&rice['vfew'],power['small'])\n",
        "rule17 = ctrl.Rule(time['low']&rice['few'],power['normal'])\n",
        "rule18 = ctrl.Rule(time['low']&rice['normal'],power['big'])\n",
        "rule19 = ctrl.Rule(time['low']&rice['much'],power['big'])\n",
        "rule20 = ctrl.Rule(time['low']&rice['vmuch'],power['vbig'])\n",
        "rule21 = ctrl.Rule(time['vlow']&rice['vfew'],power['normal'])\n",
        "rule22 = ctrl.Rule(time['vlow']&rice['few'],power['big'])\n",
        "rule23 = ctrl.Rule(time['vlow']&rice['normal'],power['vbig'])\n",
        "rule24 = ctrl.Rule(time['vlow']&rice['much'],power['vbig'])\n",
        "rule25 = ctrl.Rule(time['vlow']&rice['vmuch'],power['vbig'])\n",
        "powering_ctrl = ctrl.ControlSystem([rule1,rule2,rule3,rule4,rule5,rule6, rule7,rule8,rule9,rule10,rule11,rule12,rule13,rule14,rule15,rule16, rule17,rule18,rule19,rule20,rule21,rule22,rule23,rule24,rule25])\n",
        "powering = ctrl.ControlSystemSimulation(powering_ctrl)\n",
        "powering.input['time'] = 100\n",
        "powering.input['rice'] = 100\n",
        "powering.compute()\n",
        "print(powering.output['power'])\n",
        "power.view(sim=powering)\n"
      ],
      "metadata": {
        "id": "yXs90KxopjQj",
        "colab": {
          "base_uri": "https://localhost:8080/",
          "height": 299
        },
        "outputId": "2670e5c9-b184-48b5-ad86-c6798ab499a8"
      },
      "execution_count": null,
      "outputs": [
        {
          "output_type": "stream",
          "name": "stdout",
          "text": [
            "31.034482758620694\n"
          ]
        },
        {
          "output_type": "display_data",
          "data": {
            "text/plain": [
              "<Figure size 432x288 with 1 Axes>"
            ],
            "image/png": "[encoded data removed]"
          },
          "metadata": {
            "needs_background": "light"
          }
        }
      ]
    },
    {
      "cell_type": "code",
      "source": [
        "pip install scikit-fuzzy"
      ],
      "metadata": {
        "colab": {
          "base_uri": "https://localhost:8080/"
        },
        "id": "tS1TDavA6CZZ",
        "outputId": "dd203e2b-f17a-4816-d1c6-08bf11959c01"
      },
      "execution_count": null,
      "outputs": [
        {
          "output_type": "stream",
          "name": "stdout",
          "text": [
            "Looking in indexes: https://pypi.org/simple, https://us-python.pkg.dev/colab-wheels/public/simple/\n",
            "Requirement already satisfied: scikit-fuzzy in /usr/local/lib/python3.7/dist-packages (0.4.2)\n",
            "Requirement already satisfied: scipy>=0.9.0 in /usr/local/lib/python3.7/dist-packages (from scikit-fuzzy) (1.7.3)\n",
            "Requirement already satisfied: numpy>=1.6.0 in /usr/local/lib/python3.7/dist-packages (from scikit-fuzzy) (1.21.6)\n",
            "Requirement already satisfied: networkx>=1.9.0 in /usr/local/lib/python3.7/dist-packages (from scikit-fuzzy) (2.6.3)\n"
          ]
        }
      ]
    },
    {
      "cell_type": "code",
      "source": [
        "import numpy as np\n",
        "import skfuzzy as fuzz\n",
        "from skfuzzy import control as ctrl\n",
        "ws = ctrl.Antecedent(np.arange(0.7,3.2,0.1),'ws')\n",
        "tp = ctrl.Antecedent(np.arange(20.4,41.3,0.1),'tp')\n",
        "rf = ctrl.Consequent(np.arange(0.2,9.2,0.1),'rf')\n",
        "\n",
        "ws['vl'] = fuzz.trimf(ws.universe,[0.7,0.7,1.3])\n",
        "ws['l'] = fuzz.trimf(ws.universe,[0.7,1.3,1.9])\n",
        "ws['n'] = fuzz.trimf(ws.universe,[1.3,1.9,2.5])\n",
        "ws['h'] = fuzz.trimf(ws.universe,[1.9,2.5,3.1])\n",
        "ws['vh'] = fuzz.trimf(ws.universe,[2.5,3.1,3.1])\n",
        "tp['vl'] = fuzz.trimf(tp.universe,[20.4,20.4,25.6])\n",
        "tp['l'] = fuzz.trimf(tp.universe,[20.4,25.6,30.8])\n",
        "tp['n'] = fuzz.trimf(tp.universe,[25.6,30.8,36])\n",
        "tp['h'] = fuzz.trimf(tp.universe,[30.8,36,41.2])\n",
        "tp['vh'] = fuzz.trimf(tp.universe,[36,41.2,41.2])\n",
        "rf['vl'] = fuzz.trimf(rf.universe,[0.2,1.68,3.1])\n",
        "rf['l'] = fuzz.trimf(rf.universe,[1.68,3.1,4.65])\n",
        "rf['n'] = fuzz.trimf(rf.universe,[3.1,4.65,6.1])\n",
        "rf['h'] = fuzz.trimf(rf.universe,[4.65,6.1,7.6])\n",
        "rf['vh'] = fuzz.trimf(rf.universe,[6.1,7.6,9.1])\n",
        "\n",
        "rule1= ctrl.Rule(ws['vl']&tp['vl'],rf['vl'])\n",
        "rule2= ctrl.Rule(ws['vl']&tp['l'],rf['vl'])\n",
        "rule3= ctrl.Rule(ws['vl']&tp['n'],rf['vl'])\n",
        "rule4= ctrl.Rule(ws['vl']&tp['h'],rf['vl'])\n",
        "rule5= ctrl.Rule(ws['vl']&tp['vh'],rf['vl'])\n",
        "\n",
        "rule6= ctrl.Rule(ws['l']&tp['vl'],rf['vl'])\n",
        "rule7= ctrl.Rule(ws['l']&tp['l'],rf['vl'])\n",
        "rule8= ctrl.Rule(ws['l']&tp['n'],rf['l'])\n",
        "rule9= ctrl.Rule(ws['l']&tp['h'],rf['l'])\n",
        "rule10= ctrl.Rule(ws['l']&tp['vh'],rf['n'])\n",
        "\n",
        "rule11= ctrl.Rule(ws['n']&tp['vl'],rf['l'])\n",
        "rule12= ctrl.Rule(ws['n']&tp['l'],rf['l'])\n",
        "rule13= ctrl.Rule(ws['n']&tp['n'],rf['n'])\n",
        "rule14= ctrl.Rule(ws['n']&tp['h'],rf['n'])\n",
        "rule15= ctrl.Rule(ws['n']&tp['vh'],rf['h'])\n",
        "\n",
        "rule16= ctrl.Rule(ws['h']&tp['vl'],rf['l'])\n",
        "rule17= ctrl.Rule(ws['h']&tp['l'],rf['n'])\n",
        "rule18= ctrl.Rule(ws['h']&tp['n'],rf['n'])\n",
        "rule19= ctrl.Rule(ws['h']&tp['h'],rf['h'])\n",
        "rule20= ctrl.Rule(ws['h']&tp['vh'],rf['vh'])\n",
        "\n",
        "rule21= ctrl.Rule(ws['vh']&tp['vl'],rf['l'])\n",
        "rule22= ctrl.Rule(ws['vh']&tp['l'],rf['n'])\n",
        "rule23= ctrl.Rule(ws['vh']&tp['n'],rf['h'])\n",
        "rule24= ctrl.Rule(ws['vh']&tp['h'],rf['vh'])\n",
        "rule25= ctrl.Rule(ws['vh']&tp['vh'],rf['vh'])\n",
        "\n",
        "rf_rule=ctrl.ControlSystem([rule1,rule2,rule3,rule4,rule5,rule6,rule7,rule8,rule9,rule10,rule11,rule12,rule13,rule14,rule15,rule16,rule17,rule18,rule19,rule20,rule21,rule22,rule23,rule24,rule25])\n",
        "rainfall= ctrl.ControlSystemSimulation(rf_rule)\n",
        "rainfall.input['ws']=2.9\n",
        "rainfall.input['tp']=28\n",
        "rainfall.compute()\n",
        "print(rainfall.output['rf'])\n",
        "rf.view(sim=rainfall)"
      ],
      "metadata": {
        "colab": {
          "base_uri": "https://localhost:8080/",
          "height": 299
        },
        "id": "SYOuDHk_5xAc",
        "outputId": "a07e3b4d-dde1-45ed-d7cb-eb537becbd95"
      },
      "execution_count": null,
      "outputs": [
        {
          "output_type": "stream",
          "name": "stdout",
          "text": [
            "5.310331980710419\n"
          ]
        },
        {
          "output_type": "display_data",
          "data": {
            "text/plain": [
              "<Figure size 432x288 with 1 Axes>"
            ],
            "image/png": "[encoded data removed]"
          },
          "metadata": {
            "needs_background": "light"
          }
        }
      ]
    },
    {
      "cell_type": "code",
      "source": [
        "import numpy as np\n",
        "import skfuzzy as fuzz\n",
        "from skfuzzy import control as ctrl\n",
        "time = ctrl.Antecedent(np.arange(10,121,5),'time')\n",
        "rice = ctrl.Antecedent(np.arange(100,1001,5),'rice')\n",
        "power = ctrl.Consequent(np.arange(0,101,5),'power')\n",
        "time['vfast']=fuzz.trimf(time.universe,[10,10,40])\n",
        "time['fast']=fuzz.trimf(time.universe,[10,40,70])\n",
        "time['normal']=fuzz.trimf(time.universe,[40,70,95])\n",
        "time['low']=fuzz.trimf(time.universe,[70,95,120])\n",
        "time['vlow']=fuzz.trimf(time.universe,[95,120,120])\n",
        "rice['vfew']=fuzz.trimf(rice.universe,[100,100,325])\n",
        "rice['few']=fuzz.trimf(rice.universe,[100,325,550])\n",
        "rice['normal']=fuzz.trimf(rice.universe,[325,550,775])\n",
        "rice['much']=fuzz.trimf(rice.universe,[550,775,1000])\n",
        "rice['vmuch']=fuzz.trimf(rice.universe,[775,1000,1000])\n",
        "power['vsmall']=fuzz.trimf(power.universe,[0,0,25])\n",
        "power['small']=fuzz.trimf(power.universe,[0,25,50])\n",
        "power['normal']=fuzz.trimf(power.universe,[25,50,75])\n",
        "power['big']=fuzz.trimf(power.universe,[50,75,100])\n",
        "power['vbig']=fuzz.trimf(power.universe,[75,100,100])\n",
        "rule1 = ctrl.Rule(time['vfast']&rice['vfew'],power['vsmall'])\n",
        "rule2 = ctrl.Rule(time['vfast']&rice['few'],power['vsmall'])\n",
        "rule3 = ctrl.Rule(time['vfast']&rice['normal'],power['vsmall'])\n",
        "rule4 = ctrl.Rule(time['vfast']&rice['much'],power['small'])\n",
        "rule5 = ctrl.Rule(time['vfast']&rice['vmuch'],power['normal'])\n",
        "rule6 = ctrl.Rule(time['fast']&rice['vfew'],power['vsmall'])\n",
        "rule7 = ctrl.Rule(time['fast']&rice['few'],power['small'])\n",
        "rule8 = ctrl.Rule(time['fast']&rice['normal'],power['small'])\n",
        "rule9 = ctrl.Rule(time['fast']&rice['much'],power['normal'])\n",
        "rule10 = ctrl.Rule(time['fast']&rice['vmuch'],power['big'])\n",
        "rule11 = ctrl.Rule(time['normal']&rice['vfew'],power['vsmall'])\n",
        "rule12 = ctrl.Rule(time['normal']&rice['few'],power['small'])\n",
        "rule13 = ctrl.Rule(time['normal']&rice['normal'],power['normal'])\n",
        "rule14 = ctrl.Rule(time['normal']&rice['much'],power['big'])\n",
        "rule15 = ctrl.Rule(time['normal']&rice['vmuch'],power['vbig'])\n",
        "rule16 = ctrl.Rule(time['low']&rice['vfew'],power['small'])\n",
        "rule17 = ctrl.Rule(time['low']&rice['few'],power['normal'])\n",
        "rule18 = ctrl.Rule(time['low']&rice['normal'],power['big'])\n",
        "rule19 = ctrl.Rule(time['low']&rice['much'],power['big'])\n",
        "rule20 = ctrl.Rule(time['low']&rice['vmuch'],power['vbig'])\n",
        "rule21 = ctrl.Rule(time['vlow']&rice['vfew'],power['normal'])\n",
        "rule22 = ctrl.Rule(time['vlow']&rice['few'],power['big'])\n",
        "rule23 = ctrl.Rule(time['vlow']&rice['normal'],power['vbig'])\n",
        "rule24 = ctrl.Rule(time['vlow']&rice['much'],power['vbig'])\n",
        "rule25 = ctrl.Rule(time['vlow']&rice['vmuch'],power['vbig'])\n",
        "powering_ctrl = ctrl.ControlSystem([rule1,rule2,rule3,rule4,rule5,rule6, rule7,rule8,rule9,rule10,rule11,rule12,rule13,rule14,rule15,rule16, rule17,rule18,rule19,rule20,rule21,rule22,rule23,rule24,rule25])\n",
        "powering = ctrl.ControlSystemSimulation(powering_ctrl)\n",
        "powering.input['time'] = 100\n",
        "powering.input['rice'] = 100\n",
        "powering.compute()\n",
        "print(powering.output['power'])\n",
        "power.view(sim=powering)"
      ],
      "metadata": {
        "colab": {
          "base_uri": "https://localhost:8080/",
          "height": 299
        },
        "id": "DZ6k689w8DJs",
        "outputId": "4f33924d-0e31-4daf-922f-5c0b104ecaa1"
      },
      "execution_count": null,
      "outputs": [
        {
          "output_type": "stream",
          "name": "stdout",
          "text": [
            "31.034482758620694\n"
          ]
        },
        {
          "output_type": "display_data",
          "data": {
            "text/plain": [
              "<Figure size 432x288 with 1 Axes>"
            ],
            "image/png": "[encoded data removed]"
          },
          "metadata": {
            "needs_background": "light"
          }
        }
      ]
    },
    {
      "cell_type": "code",
      "source": [
        "import numpy as np\n",
        "import skfuzzy as fuzz\n",
        "from skfuzzy import control as ctrl\n"
      ],
      "metadata": {
        "id": "DxtGxUsj8VE5"
      },
      "execution_count": null,
      "outputs": []
    }
  ],
  "metadata": {
    "colab": {
      "provenance": [],
      "toc_visible": true,
      "authorship_tag": "ABX9TyP3Bg9HU8ivifUoRVm7wGoa",
      "include_colab_link": true
    },
    "kernelspec": {
      "display_name": "Python 3",
      "name": "python3"
    },
    "language_info": {
      "name": "python"
    }
  },
  "nbformat": 4,
  "nbformat_minor": 0
}